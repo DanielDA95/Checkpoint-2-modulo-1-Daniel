{
  "nbformat": 4,
  "nbformat_minor": 0,
  "metadata": {
    "colab": {
      "provenance": [],
      "authorship_tag": "ABX9TyMZ/EzdB+jc3qWgSjsJ7dOY",
      "include_colab_link": true
    },
    "kernelspec": {
      "name": "python3",
      "display_name": "Python 3"
    },
    "language_info": {
      "name": "python"
    }
  },
  "cells": [
    {
      "cell_type": "markdown",
      "metadata": {
        "id": "view-in-github",
        "colab_type": "text"
      },
      "source": [
        "<a href=\"https://colab.research.google.com/github/DanielDA95/Checkpoint-2-modulo-1-Daniel/blob/main/python_lec_1.ipynb\" target=\"_parent\"><img src=\"https://colab.research.google.com/assets/colab-badge.svg\" alt=\"Open In Colab\"/></a>"
      ]
    },
    {
      "cell_type": "code",
      "execution_count": 1,
      "metadata": {
        "colab": {
          "base_uri": "https://localhost:8080/",
          "height": 36
        },
        "id": "-mxigu4gCfOh",
        "outputId": "651d2865-fc4d-41aa-d814-d0743d5be4eb"
      },
      "outputs": [
        {
          "output_type": "execute_result",
          "data": {
            "text/plain": [
              "'\\n[\\n  [0,1,2,3,4]\\n  [1,2,3,4,5]\\n  [2,3,4,5,6]\\n  [3,4,5,6,7]\\n  [4,5,6,7,8]\\n]\\n'"
            ],
            "application/vnd.google.colaboratory.intrinsic+json": {
              "type": "string"
            }
          },
          "metadata": {},
          "execution_count": 1
        }
      ],
      "source": [
        "\"\"\"\n",
        "[\n",
        "  [0,1,2,3,4]\n",
        "  [1,2,3,4,5]\n",
        "  [2,3,4,5,6]\n",
        "  [3,4,5,6,7]\n",
        "  [4,5,6,7,8]\n",
        "]\n",
        "\"\"\""
      ]
    },
    {
      "cell_type": "code",
      "source": [
        "manual_incrementing_matrix(5)"
      ],
      "metadata": {
        "colab": {
          "base_uri": "https://localhost:8080/",
          "height": 141
        },
        "id": "DrU51G1kQwuW",
        "outputId": "da90055b-7e1e-40ff-912b-3c17176fc5ad"
      },
      "execution_count": 2,
      "outputs": [
        {
          "output_type": "error",
          "ename": "NameError",
          "evalue": "name 'manual_incrementing_matrix' is not defined",
          "traceback": [
            "\u001b[0;31m---------------------------------------------------------------------------\u001b[0m",
            "\u001b[0;31mNameError\u001b[0m                                 Traceback (most recent call last)",
            "\u001b[0;32m<ipython-input-2-e0aa190a65ab>\u001b[0m in \u001b[0;36m<cell line: 1>\u001b[0;34m()\u001b[0m\n\u001b[0;32m----> 1\u001b[0;31m \u001b[0mmanual_incrementing_matrix\u001b[0m\u001b[0;34m(\u001b[0m\u001b[0;36m5\u001b[0m\u001b[0;34m)\u001b[0m\u001b[0;34m\u001b[0m\u001b[0;34m\u001b[0m\u001b[0m\n\u001b[0m",
            "\u001b[0;31mNameError\u001b[0m: name 'manual_incrementing_matrix' is not defined"
          ]
        }
      ]
    },
    {
      "cell_type": "code",
      "source": [
        "\"\"\"\n",
        "[\n",
        "  [0,1,2,3,4]\n",
        "  [1,2,3,4,5]\n",
        "  [2,3,4,5,6]\n",
        "  [3,4,5,6,7]\n",
        "  [4,5,6,7,8]\n",
        "]\n",
        "\"\"\"\n",
        "def manual_incrementing_matrix(n0):\n",
        "  # matrix n x n\n",
        "  matrix = [ [ None for y in range(n) ] for x in range(n) ]\n",
        "\n",
        "\n",
        "  for idx, el in enumerate(matrix):\n",
        "    for nested_idx, nested_el in enumerate(matrix):\n",
        "      matrix[idx] [nested_idx] = counter + nested_idx\n",
        "\n",
        "      counter += 1\n",
        "\n",
        "    return matrix\n",
        "  print(manual_incrementing_matrix(5))"
      ],
      "metadata": {
        "id": "_AsJC8IrQ7W7"
      },
      "execution_count": 12,
      "outputs": []
    },
    {
      "cell_type": "code",
      "source": [],
      "metadata": {
        "id": "efpCHFhsRAuU"
      },
      "execution_count": null,
      "outputs": []
    }
  ]
}