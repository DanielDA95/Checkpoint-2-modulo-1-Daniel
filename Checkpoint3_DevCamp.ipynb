{
  "nbformat": 4,
  "nbformat_minor": 0,
  "metadata": {
    "colab": {
      "provenance": [],
      "authorship_tag": "ABX9TyMi0svaJAYlSwG/sYmEwv4a",
      "include_colab_link": true
    },
    "kernelspec": {
      "name": "python3",
      "display_name": "Python 3"
    },
    "language_info": {
      "name": "python"
    }
  },
  "cells": [
    {
      "cell_type": "markdown",
      "metadata": {
        "id": "view-in-github",
        "colab_type": "text"
      },
      "source": [
        "<a href=\"https://colab.research.google.com/github/DanielDA95/Checkpoint-2-modulo-1-Daniel/blob/main/Checkpoint3_DevCamp.ipynb\" target=\"_parent\"><img src=\"https://colab.research.google.com/assets/colab-badge.svg\" alt=\"Open In Colab\"/></a>"
      ]
    },
    {
      "cell_type": "code",
      "execution_count": null,
      "metadata": {
        "id": "tLHZtELfIuCi"
      },
      "outputs": [],
      "source": [
        "#Este trabajo es presentado por: Daniel Duque para el 3 punto de control del curso full Stack."
      ]
    },
    {
      "cell_type": "code",
      "source": [
        "#Punto numero 1, creacion de los valores requeridos en su propia variable\n",
        "string = \"String\"\n",
        "number = 29\n",
        "lista = ['alfa', 'beta', 'delta', 'foxtrot']\n",
        "verdad = True\n"
      ],
      "metadata": {
        "id": "KdmpqIIjI-iX"
      },
      "execution_count": null,
      "outputs": []
    },
    {
      "cell_type": "code",
      "source": [
        "#Punto 2 uso de indice para tomar las tres primeras letras de la cadena.\n",
        "indice_variable = string[0:3]\n",
        "print(indice_variable)"
      ],
      "metadata": {
        "id": "NdIJyTyOJjyN"
      },
      "execution_count": null,
      "outputs": []
    },
    {
      "cell_type": "code",
      "source": [
        "#Punto 3 tomar el primer elemento de la lista usando el indice.\n",
        "primero = lista[0]\n",
        "print(primero)"
      ],
      "metadata": {
        "id": "Bv88fNWdJ8sI"
      },
      "execution_count": null,
      "outputs": []
    },
    {
      "cell_type": "code",
      "source": [
        "#Punto 4 Crear variable numerica\n",
        "suma = number + 10\n",
        "print(suma)"
      ],
      "metadata": {
        "id": "pi8s87g4Lbir"
      },
      "execution_count": null,
      "outputs": []
    },
    {
      "cell_type": "code",
      "source": [
        "#Punto 5 obtener el ultimo elemento de mi lista\n",
        "ultimo = lista[-1]\n",
        "print(ultimo)"
      ],
      "metadata": {
        "id": "CofGyorOLwjE"
      },
      "execution_count": null,
      "outputs": []
    },
    {
      "cell_type": "code",
      "source": [
        "#Punto 6 uso del split\n",
        "nombres = 'Harry,Alex,Susie,Jared,Gail,Conner'\n",
        "lista = nombres.split(',')\n",
        "print(lista)"
      ],
      "metadata": {
        "id": "RGQg5jthMJhi"
      },
      "execution_count": null,
      "outputs": []
    },
    {
      "cell_type": "code",
      "source": [
        "#Punto 7\n",
        "primera_palabra = nombres[0:5]\n",
        "primera_palabra_mayusculas = primera_palabra.upper()\n",
        "resto_cadena = nombres[6:]\n",
        "nueva_cadena = primera_palabra_mayusculas + resto_cadena\n",
        "print(nueva_cadena)"
      ],
      "metadata": {
        "id": "jBpM2BY8M0X2"
      },
      "execution_count": null,
      "outputs": []
    },
    {
      "cell_type": "code",
      "source": [
        "#Punto 8 uso de la interpolacion de cadenas\n",
        "frase = f\"El numero que elegi es {number}. ¡Es mi dia de cumpleaños!\"\n",
        "print(frase)"
      ],
      "metadata": {
        "id": "ZvLn_LuwNg_4"
      },
      "execution_count": null,
      "outputs": []
    },
    {
      "cell_type": "code",
      "source": [
        "hola = \"Hola mundo\"\n",
        "print(hola)"
      ],
      "metadata": {
        "id": "rwpZI3ktOy9G"
      },
      "execution_count": null,
      "outputs": []
    }
  ]
}